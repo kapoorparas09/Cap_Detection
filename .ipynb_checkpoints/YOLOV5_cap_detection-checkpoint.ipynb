{
 "cells": [
  {
   "cell_type": "code",
   "execution_count": 1,
   "id": "54fb2519",
   "metadata": {},
   "outputs": [
    {
     "name": "stdout",
     "output_type": "stream",
     "text": [
      "Collecting torchaudio\n",
      "  Using cached torchaudio-0.13.1-cp39-cp39-win_amd64.whl (2.0 MB)\n",
      "Requirement already satisfied: torch==1.13.1 in c:\\users\\kapoo\\anaconda3\\lib\\site-packages (from torchaudio) (1.13.1)\n",
      "Requirement already satisfied: typing-extensions in c:\\users\\kapoo\\anaconda3\\lib\\site-packages (from torch==1.13.1->torchaudio) (4.3.0)\n",
      "Installing collected packages: torchaudio\n",
      "Successfully installed torchaudio-0.13.1\n"
     ]
    }
   ],
   "source": [
    "!pip install torchaudio"
   ]
  },
  {
   "cell_type": "code",
   "execution_count": 2,
   "id": "e6a3bb11",
   "metadata": {},
   "outputs": [
    {
     "name": "stderr",
     "output_type": "stream",
     "text": [
      "fatal: destination path 'yolov5' already exists and is not an empty directory.\n"
     ]
    }
   ],
   "source": [
    "!git clone https://github.com/ultralytics/yolov5"
   ]
  },
  {
   "cell_type": "code",
   "execution_count": 3,
   "id": "1e16f0a7",
   "metadata": {},
   "outputs": [
    {
     "name": "stdout",
     "output_type": "stream",
     "text": [
      "Collecting gitpython\n",
      "  Using cached GitPython-3.1.30-py3-none-any.whl (184 kB)\n",
      "Requirement already satisfied: ipython in c:\\users\\kapoo\\anaconda3\\lib\\site-packages (from -r requirements.txt (line 6)) (7.31.1)\n",
      "Requirement already satisfied: matplotlib>=3.2.2 in c:\\users\\kapoo\\anaconda3\\lib\\site-packages (from -r requirements.txt (line 7)) (3.5.2)\n",
      "Requirement already satisfied: numpy>=1.18.5 in c:\\users\\kapoo\\anaconda3\\lib\\site-packages (from -r requirements.txt (line 8)) (1.21.5)\n",
      "Collecting opencv-python>=4.1.1\n",
      "  Using cached opencv_python-4.7.0.68-cp37-abi3-win_amd64.whl (38.2 MB)\n",
      "Requirement already satisfied: Pillow>=7.1.2 in c:\\users\\kapoo\\anaconda3\\lib\\site-packages (from -r requirements.txt (line 10)) (9.2.0)\n",
      "Requirement already satisfied: psutil in c:\\users\\kapoo\\anaconda3\\lib\\site-packages (from -r requirements.txt (line 11)) (5.9.0)\n",
      "Requirement already satisfied: PyYAML>=5.3.1 in c:\\users\\kapoo\\anaconda3\\lib\\site-packages (from -r requirements.txt (line 12)) (6.0)\n",
      "Requirement already satisfied: requests>=2.23.0 in c:\\users\\kapoo\\anaconda3\\lib\\site-packages (from -r requirements.txt (line 13)) (2.28.1)\n",
      "Requirement already satisfied: scipy>=1.4.1 in c:\\users\\kapoo\\anaconda3\\lib\\site-packages (from -r requirements.txt (line 14)) (1.9.1)\n",
      "Collecting thop>=0.1.1\n",
      "  Using cached thop-0.1.1.post2209072238-py3-none-any.whl (15 kB)\n",
      "Requirement already satisfied: torch>=1.7.0 in c:\\users\\kapoo\\anaconda3\\lib\\site-packages (from -r requirements.txt (line 16)) (1.13.1)\n",
      "Collecting torchvision>=0.8.1\n",
      "  Using cached torchvision-0.14.1-cp39-cp39-win_amd64.whl (1.1 MB)\n",
      "Requirement already satisfied: tqdm>=4.64.0 in c:\\users\\kapoo\\anaconda3\\lib\\site-packages (from -r requirements.txt (line 18)) (4.64.1)\n",
      "Collecting tensorboard>=2.4.1\n",
      "  Using cached tensorboard-2.11.0-py3-none-any.whl (6.0 MB)\n",
      "Requirement already satisfied: pandas>=1.1.4 in c:\\users\\kapoo\\anaconda3\\lib\\site-packages (from -r requirements.txt (line 27)) (1.4.4)\n",
      "Requirement already satisfied: seaborn>=0.11.0 in c:\\users\\kapoo\\anaconda3\\lib\\site-packages (from -r requirements.txt (line 28)) (0.11.2)\n",
      "Collecting gitdb<5,>=4.0.1\n",
      "  Using cached gitdb-4.0.10-py3-none-any.whl (62 kB)\n",
      "Requirement already satisfied: setuptools>=18.5 in c:\\users\\kapoo\\anaconda3\\lib\\site-packages (from ipython->-r requirements.txt (line 6)) (63.4.1)\n",
      "Requirement already satisfied: decorator in c:\\users\\kapoo\\anaconda3\\lib\\site-packages (from ipython->-r requirements.txt (line 6)) (5.1.1)\n",
      "Requirement already satisfied: pickleshare in c:\\users\\kapoo\\anaconda3\\lib\\site-packages (from ipython->-r requirements.txt (line 6)) (0.7.5)\n",
      "Requirement already satisfied: backcall in c:\\users\\kapoo\\anaconda3\\lib\\site-packages (from ipython->-r requirements.txt (line 6)) (0.2.0)\n",
      "Requirement already satisfied: colorama in c:\\users\\kapoo\\anaconda3\\lib\\site-packages (from ipython->-r requirements.txt (line 6)) (0.4.5)\n",
      "Requirement already satisfied: prompt-toolkit!=3.0.0,!=3.0.1,<3.1.0,>=2.0.0 in c:\\users\\kapoo\\anaconda3\\lib\\site-packages (from ipython->-r requirements.txt (line 6)) (3.0.20)\n",
      "Requirement already satisfied: pygments in c:\\users\\kapoo\\anaconda3\\lib\\site-packages (from ipython->-r requirements.txt (line 6)) (2.11.2)\n",
      "Requirement already satisfied: traitlets>=4.2 in c:\\users\\kapoo\\anaconda3\\lib\\site-packages (from ipython->-r requirements.txt (line 6)) (5.1.1)\n",
      "Requirement already satisfied: jedi>=0.16 in c:\\users\\kapoo\\anaconda3\\lib\\site-packages (from ipython->-r requirements.txt (line 6)) (0.18.1)\n",
      "Requirement already satisfied: matplotlib-inline in c:\\users\\kapoo\\anaconda3\\lib\\site-packages (from ipython->-r requirements.txt (line 6)) (0.1.6)\n",
      "Requirement already satisfied: pyparsing>=2.2.1 in c:\\users\\kapoo\\anaconda3\\lib\\site-packages (from matplotlib>=3.2.2->-r requirements.txt (line 7)) (3.0.9)\n",
      "Requirement already satisfied: kiwisolver>=1.0.1 in c:\\users\\kapoo\\anaconda3\\lib\\site-packages (from matplotlib>=3.2.2->-r requirements.txt (line 7)) (1.4.2)\n",
      "Requirement already satisfied: python-dateutil>=2.7 in c:\\users\\kapoo\\anaconda3\\lib\\site-packages (from matplotlib>=3.2.2->-r requirements.txt (line 7)) (2.8.2)\n",
      "Requirement already satisfied: cycler>=0.10 in c:\\users\\kapoo\\anaconda3\\lib\\site-packages (from matplotlib>=3.2.2->-r requirements.txt (line 7)) (0.11.0)\n",
      "Requirement already satisfied: fonttools>=4.22.0 in c:\\users\\kapoo\\anaconda3\\lib\\site-packages (from matplotlib>=3.2.2->-r requirements.txt (line 7)) (4.25.0)\n",
      "Requirement already satisfied: packaging>=20.0 in c:\\users\\kapoo\\anaconda3\\lib\\site-packages (from matplotlib>=3.2.2->-r requirements.txt (line 7)) (21.3)\n",
      "Requirement already satisfied: urllib3<1.27,>=1.21.1 in c:\\users\\kapoo\\anaconda3\\lib\\site-packages (from requests>=2.23.0->-r requirements.txt (line 13)) (1.26.11)\n",
      "Requirement already satisfied: charset-normalizer<3,>=2 in c:\\users\\kapoo\\anaconda3\\lib\\site-packages (from requests>=2.23.0->-r requirements.txt (line 13)) (2.0.4)\n",
      "Requirement already satisfied: idna<4,>=2.5 in c:\\users\\kapoo\\anaconda3\\lib\\site-packages (from requests>=2.23.0->-r requirements.txt (line 13)) (3.3)\n",
      "Requirement already satisfied: certifi>=2017.4.17 in c:\\users\\kapoo\\anaconda3\\lib\\site-packages (from requests>=2.23.0->-r requirements.txt (line 13)) (2022.9.14)\n",
      "Requirement already satisfied: typing-extensions in c:\\users\\kapoo\\anaconda3\\lib\\site-packages (from torch>=1.7.0->-r requirements.txt (line 16)) (4.3.0)\n",
      "Collecting protobuf<4,>=3.9.2\n",
      "  Using cached protobuf-3.20.3-cp39-cp39-win_amd64.whl (904 kB)\n",
      "Collecting absl-py>=0.4\n",
      "  Using cached absl_py-1.3.0-py3-none-any.whl (124 kB)\n",
      "Collecting google-auth<3,>=1.6.3\n",
      "  Using cached google_auth-2.15.0-py2.py3-none-any.whl (177 kB)\n",
      "Collecting tensorboard-plugin-wit>=1.6.0\n",
      "  Using cached tensorboard_plugin_wit-1.8.1-py3-none-any.whl (781 kB)\n",
      "Collecting google-auth-oauthlib<0.5,>=0.4.1\n",
      "  Using cached google_auth_oauthlib-0.4.6-py2.py3-none-any.whl (18 kB)\n",
      "Requirement already satisfied: werkzeug>=1.0.1 in c:\\users\\kapoo\\anaconda3\\lib\\site-packages (from tensorboard>=2.4.1->-r requirements.txt (line 22)) (2.0.3)\n",
      "Requirement already satisfied: markdown>=2.6.8 in c:\\users\\kapoo\\anaconda3\\lib\\site-packages (from tensorboard>=2.4.1->-r requirements.txt (line 22)) (3.3.4)\n",
      "Collecting grpcio>=1.24.3\n",
      "  Using cached grpcio-1.51.1-cp39-cp39-win_amd64.whl (3.7 MB)\n",
      "Collecting tensorboard-data-server<0.7.0,>=0.6.0\n",
      "  Using cached tensorboard_data_server-0.6.1-py3-none-any.whl (2.4 kB)\n",
      "Requirement already satisfied: wheel>=0.26 in c:\\users\\kapoo\\anaconda3\\lib\\site-packages (from tensorboard>=2.4.1->-r requirements.txt (line 22)) (0.37.1)\n",
      "Requirement already satisfied: pytz>=2020.1 in c:\\users\\kapoo\\anaconda3\\lib\\site-packages (from pandas>=1.1.4->-r requirements.txt (line 27)) (2022.1)\n",
      "Collecting smmap<6,>=3.0.1\n",
      "  Using cached smmap-5.0.0-py3-none-any.whl (24 kB)\n",
      "Requirement already satisfied: pyasn1-modules>=0.2.1 in c:\\users\\kapoo\\anaconda3\\lib\\site-packages (from google-auth<3,>=1.6.3->tensorboard>=2.4.1->-r requirements.txt (line 22)) (0.2.8)\n",
      "Collecting rsa<5,>=3.1.4\n",
      "  Using cached rsa-4.9-py3-none-any.whl (34 kB)\n",
      "Requirement already satisfied: six>=1.9.0 in c:\\users\\kapoo\\anaconda3\\lib\\site-packages (from google-auth<3,>=1.6.3->tensorboard>=2.4.1->-r requirements.txt (line 22)) (1.16.0)\n",
      "Collecting cachetools<6.0,>=2.0.0\n",
      "  Using cached cachetools-5.2.0-py3-none-any.whl (9.3 kB)\n",
      "Collecting requests-oauthlib>=0.7.0\n",
      "  Using cached requests_oauthlib-1.3.1-py2.py3-none-any.whl (23 kB)\n",
      "Requirement already satisfied: parso<0.9.0,>=0.8.0 in c:\\users\\kapoo\\anaconda3\\lib\\site-packages (from jedi>=0.16->ipython->-r requirements.txt (line 6)) (0.8.3)\n",
      "Requirement already satisfied: wcwidth in c:\\users\\kapoo\\anaconda3\\lib\\site-packages (from prompt-toolkit!=3.0.0,!=3.0.1,<3.1.0,>=2.0.0->ipython->-r requirements.txt (line 6)) (0.2.5)\n",
      "Requirement already satisfied: pyasn1<0.5.0,>=0.4.6 in c:\\users\\kapoo\\anaconda3\\lib\\site-packages (from pyasn1-modules>=0.2.1->google-auth<3,>=1.6.3->tensorboard>=2.4.1->-r requirements.txt (line 22)) (0.4.8)\n",
      "Collecting oauthlib>=3.0.0\n",
      "  Using cached oauthlib-3.2.2-py3-none-any.whl (151 kB)\n",
      "Installing collected packages: tensorboard-plugin-wit, tensorboard-data-server, smmap, rsa, protobuf, opencv-python, oauthlib, grpcio, cachetools, absl-py, torchvision, thop, requests-oauthlib, google-auth, gitdb, google-auth-oauthlib, gitpython, tensorboard\n",
      "Successfully installed absl-py-1.3.0 cachetools-5.2.0 gitdb-4.0.10 gitpython-3.1.30 google-auth-2.15.0 google-auth-oauthlib-0.4.6 grpcio-1.51.1 oauthlib-3.2.2 opencv-python-4.7.0.68 protobuf-3.20.3 requests-oauthlib-1.3.1 rsa-4.9 smmap-5.0.0 tensorboard-2.11.0 tensorboard-data-server-0.6.1 tensorboard-plugin-wit-1.8.1 thop-0.1.1.post2209072238 torchvision-0.14.1\n"
     ]
    }
   ],
   "source": [
    "!cd yolov5 & pip install -r requirements.txt"
   ]
  },
  {
   "cell_type": "code",
   "execution_count": 4,
   "id": "8afbdfdb",
   "metadata": {},
   "outputs": [],
   "source": [
    "import torch\n",
    "from matplotlib import pyplot as plt\n",
    "import numpy as np\n",
    "import cv2"
   ]
  },
  {
   "cell_type": "code",
   "execution_count": 5,
   "id": "c217a100",
   "metadata": {},
   "outputs": [
    {
     "name": "stdout",
     "output_type": "stream",
     "text": [
      "Requirement already satisfied: pip in c:\\users\\kapoo\\anaconda3\\lib\\site-packages (22.2.2)\n",
      "Collecting pip\n",
      "  Downloading pip-22.3.1-py3-none-any.whl (2.1 MB)\n",
      "     ---------------------------------------- 2.1/2.1 MB 4.0 MB/s eta 0:00:00\n",
      "Installing collected packages: pip\n",
      "  Attempting uninstall: pip\n",
      "    Found existing installation: pip 22.2.2\n",
      "    Uninstalling pip-22.2.2:\n",
      "      Successfully uninstalled pip-22.2.2\n",
      "Successfully installed pip-22.3.1\n"
     ]
    }
   ],
   "source": [
    "# ! python -m pip install --upgrade pip"
   ]
  },
  {
   "cell_type": "code",
   "execution_count": 6,
   "id": "915d4eba",
   "metadata": {},
   "outputs": [
    {
     "name": "stdout",
     "output_type": "stream",
     "text": [
      "Requirement already satisfied: torch in c:\\users\\kapoo\\anaconda3\\lib\\site-packages (1.13.1)\n",
      "Requirement already satisfied: typing-extensions in c:\\users\\kapoo\\anaconda3\\lib\\site-packages (from torch) (4.3.0)\n"
     ]
    }
   ],
   "source": [
    "# !pip install torch"
   ]
  },
  {
   "cell_type": "code",
   "execution_count": 7,
   "id": "8bf446bd",
   "metadata": {},
   "outputs": [],
   "source": [
    "# import torch"
   ]
  },
  {
   "cell_type": "code",
   "execution_count": null,
   "id": "4e46c18a",
   "metadata": {},
   "outputs": [],
   "source": []
  }
 ],
 "metadata": {
  "kernelspec": {
   "display_name": "Python 3 (ipykernel)",
   "language": "python",
   "name": "python3"
  },
  "language_info": {
   "codemirror_mode": {
    "name": "ipython",
    "version": 3
   },
   "file_extension": ".py",
   "mimetype": "text/x-python",
   "name": "python",
   "nbconvert_exporter": "python",
   "pygments_lexer": "ipython3",
   "version": "3.9.13"
  }
 },
 "nbformat": 4,
 "nbformat_minor": 5
}
